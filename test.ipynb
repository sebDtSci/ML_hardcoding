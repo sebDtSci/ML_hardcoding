{
 "cells": [
  {
   "cell_type": "code",
   "execution_count": 1,
   "metadata": {},
   "outputs": [],
   "source": [
    "word = 'chats'"
   ]
  },
  {
   "cell_type": "code",
   "execution_count": 5,
   "metadata": {},
   "outputs": [
    {
     "name": "stdout",
     "output_type": "stream",
     "text": [
      "chat\n"
     ]
    }
   ],
   "source": [
    "if word.endswith('s'):\n",
    "    print(word[:-1])"
   ]
  },
  {
   "cell_type": "code",
   "execution_count": 4,
   "metadata": {},
   "outputs": [
    {
     "data": {
      "text/plain": [
       "'c'"
      ]
     },
     "execution_count": 4,
     "metadata": {},
     "output_type": "execute_result"
    }
   ],
   "source": [
    "word[0]"
   ]
  },
  {
   "cell_type": "code",
   "execution_count": 18,
   "metadata": {},
   "outputs": [],
   "source": [
    "def correct_encoding(text):\n",
    "    corrections = {\n",
    "        'ï¿½': 'é',  \n",
    "        'Ã©': 'é',  \n",
    "        'Ã¨': 'è',  \n",
    "        'Ã´': 'ô',  \n",
    "        'Ã¨': 'è',  \n",
    "        'Ã®': 'î',  \n",
    "        'Ã§': 'ç',  \n",
    "        'Ã': 'à'   \n",
    "    }\n",
    "\n",
    "    for bad_char, good_char in corrections.items():\n",
    "        text = text.replace(bad_char, good_char)\n",
    "    \n",
    "    return text"
   ]
  },
  {
   "cell_type": "code",
   "execution_count": 38,
   "metadata": {},
   "outputs": [
    {
     "name": "stdout",
     "output_type": "stream",
     "text": [
      "\n"
     ]
    }
   ],
   "source": [
    "# seb = input().encode('ascii')\n",
    "\n",
    "seb = input().encode('latin1').decode('latin1')\n",
    "\n",
    "print(seb)"
   ]
  },
  {
   "cell_type": "code",
   "execution_count": 39,
   "metadata": {},
   "outputs": [
    {
     "name": "stdout",
     "output_type": "stream",
     "text": [
      "4444444\n",
      "0333330\n",
      "0022200\n",
      "0001000\n",
      "0022200\n",
      "0333330\n",
      "4444444\n"
     ]
    }
   ],
   "source": [
    "def bloc_draw(n):\n",
    "    len_n = (n * 2) - 1\n",
    "    matrix = [[0] * len_n for _ in range(len_n)]\n",
    "    \n",
    "    for i in range(n):\n",
    "        for i2 in range(i, len_n - i):\n",
    "            matrix[i][i2] = n - i\n",
    "            matrix[len_n - i - 1][i2] = n - i\n",
    "    \n",
    "    for i in range(len_n):\n",
    "        for j in range(len_n):\n",
    "            print(matrix[i][j], end=\"\")\n",
    "        print()\n",
    "\n",
    "def main():\n",
    "    n = int(input(\"Enter a number: \"))\n",
    "    bloc_draw(n)\n",
    "\n",
    "if __name__ == \"__main__\":\n",
    "    main()"
   ]
  },
  {
   "cell_type": "markdown",
   "metadata": {},
   "source": []
  },
  {
   "cell_type": "markdown",
   "metadata": {},
   "source": []
  }
 ],
 "metadata": {
  "kernelspec": {
   "display_name": "venv",
   "language": "python",
   "name": "python3"
  },
  "language_info": {
   "codemirror_mode": {
    "name": "ipython",
    "version": 3
   },
   "file_extension": ".py",
   "mimetype": "text/x-python",
   "name": "python",
   "nbconvert_exporter": "python",
   "pygments_lexer": "ipython3",
   "version": "3.12.4"
  }
 },
 "nbformat": 4,
 "nbformat_minor": 2
}
